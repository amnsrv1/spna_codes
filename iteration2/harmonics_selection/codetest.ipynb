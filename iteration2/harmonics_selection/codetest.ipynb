{
 "cells": [
  {
   "cell_type": "code",
   "execution_count": 8,
   "id": "a17cbf54",
   "metadata": {},
   "outputs": [
    {
     "name": "stdout",
     "output_type": "stream",
     "text": [
      "3.3852373687986836\n"
     ]
    }
   ],
   "source": [
    "import numpy as np\n",
    "import glob\n",
    "import matplotlib.pyplot as plt\n",
    "import scipy.linalg as sl\n",
    "\n",
    "import nestle\n",
    "import dynesty\n",
    "\n",
    "from multiprocess import Pool\n",
    "from dynesty.utils import resample_equal\n",
    "\n",
    "\n",
    "from dynesty import plotting as dyplot\n",
    "import enterprise\n",
    "from enterprise.pulsar import Pulsar\n",
    "import enterprise.signals.parameter as parameter\n",
    "from enterprise.signals import utils\n",
    "from enterprise.signals import signal_base\n",
    "from enterprise.signals import selections\n",
    "from enterprise.signals.selections import Selection\n",
    "from enterprise.signals import white_signals\n",
    "from enterprise.signals import gp_signals\n",
    "import enterprise.signals.selections as selections\n",
    "\n",
    "\n",
    "from enterprise import constants as const\n",
    "from enterprise.signals import deterministic_signals\n",
    "from enterprise.signals import gp_bases as gpb\n",
    "from enterprise.signals import gp_priors as gpp\n",
    "from enterprise.signals import (gp_signals, parameter, selections, utils,\n",
    "                                white_signals)\n",
    "\n",
    "from enterprise_extensions import deterministic as ee_deterministic\n",
    "\n",
    "from enterprise_extensions import chromatic as chrom\n",
    "from enterprise_extensions import dropout as drop\n",
    "from enterprise_extensions import gp_kernels\n",
    "from enterprise_extensions import model_orfs\n",
    "\n",
    "\n",
    "from enterprise_extensions.blocks import (dm_noise_block,red_noise_block,chromatic_noise_block)\n",
    "import corner\n",
    "from PTMCMCSampler.PTMCMCSampler import PTSampler as ptmcmc\n",
    "\n",
    "\n",
    "import time\n",
    "st = time.time()\n",
    "\n",
    "#PLEASE GIVE PULSAR NAME HERE\n",
    "\n",
    "psrname = \"J1909-3744\"\n",
    "\n",
    "\n",
    "#####Importing parfile and timfile#####\n",
    "\n",
    "\n",
    "\n",
    "parfile = \"../\"+psrname+\".NB.par\"\n",
    "timfile = \"../\"+psrname+\".NB.tim\"\n",
    "\n",
    "psr = Pulsar(parfile, timfile,ephem='DE440')\n",
    "\n",
    "\n",
    "tmin = psr.toas.min()\n",
    "tmax = psr.toas.max()\n",
    "Tspan = np.max(tmax) - np.min(tmin)\n",
    "Tspan_chrom = 4 * Tspan\n",
    "Tspan_years = Tspan/ 365.25 / 24 / 60 / 60\n",
    "print(Tspan_years)  # time span of data in years\n",
    "Tspan_chrom_years = 4*Tspan_years   # 4 times Tspan for DM and Scat noises\n",
    "\n",
    "\n",
    "def by_groups(flags):\n",
    "    \"\"\"Selection function to split by -group flag\"\"\"\n",
    "    flagvals = np.unique(flags[\"group\"])\n",
    "    return {val: flags[\"group\"] == val for val in flagvals}\n",
    "\n",
    "selection_by_groups = Selection(by_groups)\n",
    "\n",
    "\n",
    "#Setting up Noise priors\n",
    "\n",
    "#White noise\n",
    "efac = parameter.Uniform(0.1, 8)\n",
    "equad = parameter.Uniform(-8,-2)\n",
    "\n",
    "\n",
    "#White noise\n",
    "ef = white_signals.MeasurementNoise(efac=efac, selection=selection_by_groups)\n",
    "#eq = white_signals.EquadNoise(log10_equad=equad, selection=selection_by_groups)\n",
    "wn = white_signals.MeasurementNoise(efac=efac,log10_t2equad = equad, selection=selection_by_groups) \n",
    "\n",
    "\n",
    "def prior_transform_fn(pta):\n",
    "    mins = np.array([param.prior.func_kwargs['pmin'] for param in pta.params])\n",
    "    maxs = np.array([param.prior.func_kwargs['pmax'] for param in pta.params])\n",
    "    spans = maxs-mins\n",
    "    \n",
    "    def prior_transform(cube):\n",
    "        return spans*cube + mins\n",
    "    \n",
    "    return prior_transform\n",
    "\n",
    "\n",
    "def dynesty_sample(pta):\n",
    "    prior_transform = prior_transform_fn(pta)\n",
    "    with  Pool() as pool:\n",
    "        sampler = dynesty.NestedSampler(pta.get_lnlikelihood, prior_transform, len(pta.params),bound='multi',pool=pool,queue_size=10)\n",
    "        sampler.run_nested(dlogz = 0.1, print_progress=False )\n",
    "    res = sampler.results\n",
    "    return res\n",
    "\n",
    "\n",
    "#Obtaining the modes as function of Tspan, but making sure they are integers\n",
    "modes = [2,5,8,12]\n",
    "rn = np.floor([i *Tspan_years for i in modes])\n",
    "dm = np.floor([i *Tspan_chrom_years for i in modes])\n",
    "sc = np.floor([i *Tspan_chrom_years for i in modes])\n",
    "\n"
   ]
  },
  {
   "cell_type": "code",
   "execution_count": 4,
   "id": "2c4443f2",
   "metadata": {},
   "outputs": [],
   "source": [
    "modes = [2,5,8,12]\n",
    "rn = np.floor([i *Tspan_years for i in modes])"
   ]
  },
  {
   "cell_type": "code",
   "execution_count": 5,
   "id": "e57d5573",
   "metadata": {},
   "outputs": [
    {
     "data": {
      "text/plain": [
       "array([ 6., 16., 27., 40.])"
      ]
     },
     "execution_count": 5,
     "metadata": {},
     "output_type": "execute_result"
    }
   ],
   "source": [
    "rn"
   ]
  },
  {
   "cell_type": "code",
   "execution_count": null,
   "id": "48a9e955",
   "metadata": {},
   "outputs": [],
   "source": []
  }
 ],
 "metadata": {
  "kernelspec": {
   "display_name": "Python 3 (ipykernel)",
   "language": "python",
   "name": "python3"
  },
  "language_info": {
   "codemirror_mode": {
    "name": "ipython",
    "version": 3
   },
   "file_extension": ".py",
   "mimetype": "text/x-python",
   "name": "python",
   "nbconvert_exporter": "python",
   "pygments_lexer": "ipython3",
   "version": "3.9.9"
  }
 },
 "nbformat": 4,
 "nbformat_minor": 5
}
