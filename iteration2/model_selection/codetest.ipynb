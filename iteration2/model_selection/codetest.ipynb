{
 "cells": [
  {
   "cell_type": "code",
   "execution_count": 1,
   "id": "8f040b23",
   "metadata": {},
   "outputs": [
    {
     "name": "stderr",
     "output_type": "stream",
     "text": [
      "WARNING: AstropyDeprecationWarning: The private astropy._erfa module has been made into its own package, pyerfa, which is a dependency of astropy and can be imported directly using \"import erfa\" [astropy._erfa]\n"
     ]
    },
    {
     "name": "stdout",
     "output_type": "stream",
     "text": [
      "Do not have acor package\n",
      "[tempo2Util.C:396] Warning: [TIM1] Please place MODE flags in the parameter file \n",
      "3.3852373687986836\n"
     ]
    }
   ],
   "source": [
    "\n",
    "import numpy as np\n",
    "import glob\n",
    "import matplotlib.pyplot as plt\n",
    "import scipy.linalg as sl\n",
    "import math\n",
    "\n",
    "from multiprocess import Pool\n",
    "from dynesty.utils import resample_equal\n",
    "\n",
    "\n",
    "import nestle\n",
    "import dynesty\n",
    "from dynesty import plotting as dyplot\n",
    "import enterprise\n",
    "from enterprise.pulsar import Pulsar\n",
    "import enterprise.signals.parameter as parameter\n",
    "from enterprise.signals import utils\n",
    "from enterprise.signals import signal_base\n",
    "from enterprise.signals import selections\n",
    "from enterprise.signals.selections import Selection\n",
    "from enterprise.signals import white_signals\n",
    "from enterprise.signals import gp_signals\n",
    "import enterprise.signals.selections as selections\n",
    "\n",
    "\n",
    "from enterprise import constants as const\n",
    "from enterprise.signals import deterministic_signals\n",
    "from enterprise.signals import gp_bases as gpb\n",
    "from enterprise.signals import gp_priors as gpp\n",
    "from enterprise.signals import (gp_signals, parameter, selections, utils,\n",
    "                                white_signals)\n",
    "\n",
    "from enterprise_extensions import deterministic as ee_deterministic\n",
    "\n",
    "from enterprise_extensions import chromatic as chrom\n",
    "from enterprise_extensions import dropout as drop\n",
    "from enterprise_extensions import gp_kernels\n",
    "from enterprise_extensions import model_orfs\n",
    "\n",
    "\n",
    "from enterprise_extensions.blocks import (dm_noise_block,red_noise_block,chromatic_noise_block)\n",
    "import corner\n",
    "from PTMCMCSampler.PTMCMCSampler import PTSampler as ptmcmc\n",
    "\n",
    "\n",
    "import time\n",
    "st = time.time()\n",
    "\n",
    "\n",
    "#PLEASE GIVE PULSAR NAME HERE\n",
    "\n",
    "\n",
    "#PLEASE GIVE PULSAR NAME HERE\n",
    "\n",
    "psrname = \"J1909-3744\"\n",
    "\n",
    "\n",
    "#####Importing parfile and timfile#####\n",
    "\n",
    "\n",
    "\n",
    "parfile = \"../\"+psrname+\".NB.par\"\n",
    "timfile = \"../\"+psrname+\".NB.tim\"\n",
    "\n",
    "psr = Pulsar(parfile, timfile,ephem='DE440')\n",
    "\n",
    "\n",
    "\n",
    "tmin = psr.toas.min()\n",
    "tmax = psr.toas.max()\n",
    "Tspan = np.max(tmax) - np.min(tmin)\n",
    "Tspan_chrom = 4 * Tspan\n",
    "Tspan_years = Tspan/ 365.25 / 24 / 60 / 60\n",
    "print(Tspan_years)  # time span of data in years\n",
    "Tspan_chrom_years = 4*Tspan_years   # 4 times Tspan for DM and Scat noises\n",
    "\n",
    "#No. of modes for rednoises\n",
    "\n",
    "arn_modes = np.floor(Tspan_years*12)  ##taking once per month as max cadence\n",
    "dm_modes =  np.floor(Tspan_chrom_years*12)\n",
    "sc_modes =  np.floor(Tspan_chrom_years*12)\n",
    "\n",
    "\n",
    "def by_groups(flags):\n",
    "    \"\"\"Selection function to split by -group flag\"\"\"\n",
    "    flagvals = np.unique(flags[\"group\"])\n",
    "    return {val: flags[\"group\"] == val for val in flagvals}\n",
    "\n",
    "selection_by_groups = Selection(by_groups)\n",
    "\n",
    "\n",
    "#Setting up Noise priors\n",
    "\n",
    "#White noise\n",
    "efac = parameter.Uniform(0.1, 8)\n",
    "equad = parameter.Uniform(-8,-2)\n",
    "\n",
    "#AchromaticRedNoise\n",
    "log10_A = parameter.Uniform(-18, -10)\n",
    "gamma = parameter.Uniform(0, 7)\n",
    "\n",
    "#DMNoise\n",
    "dm_log10_A = parameter.Uniform(-18, -10)\n",
    "dm_gamma = parameter.Uniform(0, 7)\n",
    "\n",
    "#ScatteringNoise\n",
    "sc_log10_A = parameter.Uniform(-18, -10)\n",
    "sc_gamma = parameter.Uniform(0, 7)\n",
    "\n",
    "\n",
    "#White noise\n",
    "ef = white_signals.MeasurementNoise(efac=efac, selection=selection_by_groups)\n",
    "wn = white_signals.MeasurementNoise(efac=efac,log10_t2equad = equad, selection=selection_by_groups) \n",
    "\n",
    "\n",
    "\n",
    "arn = red_noise_block(psd='powerlaw', prior='log-uniform', Tspan=Tspan,\n",
    "                    components=arn_modes, gamma_val=None, coefficients=False,\n",
    "                    select=None, modes=None, wgts=None, combine=True,\n",
    "                    break_flat=False, break_flat_fq=None,\n",
    "                    logmin=None, logmax=None, dropout=False, k_threshold=0.5)\n",
    "\n",
    "\n",
    "\n",
    "scn = chromatic_noise_block(gp_kernel='diag', psd='powerlaw',\n",
    "                          nondiag_kernel='periodic',\n",
    "                          prior='log-uniform', dt=15, df=200,\n",
    "                          idx=4, include_quadratic=False,\n",
    "                          Tspan=Tspan_chrom, name='scat', components=sc_modes,\n",
    "                          coefficients=False)\n",
    "\n",
    "\n",
    "dmn = dm_noise_block(gp_kernel='diag', psd='powerlaw', nondiag_kernel='periodic',\n",
    "                   prior='log-uniform', dt=15, df=200,\n",
    "                   Tspan=Tspan_chrom, components=dm_modes,\n",
    "                   gamma_val=None, coefficients=False)\n",
    "\n"
   ]
  },
  {
   "cell_type": "code",
   "execution_count": 2,
   "id": "97cdc919",
   "metadata": {},
   "outputs": [
    {
     "data": {
      "text/plain": [
       "427319867.1584053"
      ]
     },
     "execution_count": 2,
     "metadata": {},
     "output_type": "execute_result"
    }
   ],
   "source": [
    "Tspan_chrom\n"
   ]
  },
  {
   "cell_type": "code",
   "execution_count": 3,
   "id": "b607fb6f",
   "metadata": {},
   "outputs": [
    {
     "data": {
      "text/plain": [
       "162.0"
      ]
     },
     "execution_count": 3,
     "metadata": {},
     "output_type": "execute_result"
    }
   ],
   "source": [
    "dm_modes"
   ]
  },
  {
   "cell_type": "code",
   "execution_count": 4,
   "id": "9afa6c22",
   "metadata": {},
   "outputs": [
    {
     "data": {
      "text/plain": [
       "162.0"
      ]
     },
     "execution_count": 4,
     "metadata": {},
     "output_type": "execute_result"
    }
   ],
   "source": [
    "sc_modes"
   ]
  },
  {
   "cell_type": "code",
   "execution_count": 22,
   "id": "6988ab76",
   "metadata": {},
   "outputs": [],
   "source": [
    "f= open(\"model_selection_\"+psrname+\".txt\",\"w+\")"
   ]
  },
  {
   "cell_type": "code",
   "execution_count": 20,
   "id": "88edc79a",
   "metadata": {},
   "outputs": [],
   "source": [
    "f.write(\"number of modes\"%sc_modes )\n"
   ]
  },
  {
   "cell_type": "code",
   "execution_count": 29,
   "id": "f295b812",
   "metadata": {},
   "outputs": [
    {
     "name": "stdout",
     "output_type": "stream",
     "text": [
      "number of modes 162.0\n"
     ]
    }
   ],
   "source": [
    "x = print (\"number of modes\",sc_modes)"
   ]
  },
  {
   "cell_type": "code",
   "execution_count": 31,
   "id": "8c622d07",
   "metadata": {},
   "outputs": [
    {
     "ename": "TypeError",
     "evalue": "str() argument 2 must be str, not numpy.float64",
     "output_type": "error",
     "traceback": [
      "\u001b[0;31m---------------------------------------------------------------------------\u001b[0m",
      "\u001b[0;31mTypeError\u001b[0m                                 Traceback (most recent call last)",
      "Input \u001b[0;32mIn [31]\u001b[0m, in \u001b[0;36m<cell line: 1>\u001b[0;34m()\u001b[0m\n\u001b[0;32m----> 1\u001b[0m f\u001b[38;5;241m.\u001b[39mwrite(\u001b[38;5;28;43mstr\u001b[39;49m\u001b[43m(\u001b[49m\u001b[38;5;124;43m\"\u001b[39;49m\u001b[38;5;124;43mnumber of modes\u001b[39;49m\u001b[38;5;124;43m\"\u001b[39;49m\u001b[43m,\u001b[49m\u001b[43msc_modes\u001b[49m\u001b[43m)\u001b[49m)\n\u001b[1;32m      2\u001b[0m f\u001b[38;5;241m.\u001b[39mclose()\n",
      "\u001b[0;31mTypeError\u001b[0m: str() argument 2 must be str, not numpy.float64"
     ]
    }
   ],
   "source": [
    "f.write(str(\"number of modes\",sc_modes))\n",
    "f.close()"
   ]
  },
  {
   "cell_type": "code",
   "execution_count": 27,
   "id": "e6f8fb97",
   "metadata": {},
   "outputs": [
    {
     "data": {
      "text/plain": [
       "'None'"
      ]
     },
     "execution_count": 27,
     "metadata": {},
     "output_type": "execute_result"
    }
   ],
   "source": [
    "str(x)"
   ]
  },
  {
   "cell_type": "code",
   "execution_count": 5,
   "id": "4391b212",
   "metadata": {},
   "outputs": [
    {
     "data": {
      "text/plain": [
       "16"
      ]
     },
     "execution_count": 5,
     "metadata": {},
     "output_type": "execute_result"
    }
   ],
   "source": [
    "import os\n",
    "os.cpu_count()"
   ]
  },
  {
   "cell_type": "code",
   "execution_count": null,
   "id": "c4a9906c",
   "metadata": {},
   "outputs": [],
   "source": []
  }
 ],
 "metadata": {
  "kernelspec": {
   "display_name": "Python 3 (ipykernel)",
   "language": "python",
   "name": "python3"
  },
  "language_info": {
   "codemirror_mode": {
    "name": "ipython",
    "version": 3
   },
   "file_extension": ".py",
   "mimetype": "text/x-python",
   "name": "python",
   "nbconvert_exporter": "python",
   "pygments_lexer": "ipython3",
   "version": "3.9.12"
  }
 },
 "nbformat": 4,
 "nbformat_minor": 5
}
